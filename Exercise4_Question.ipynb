{
  "nbformat": 4,
  "nbformat_minor": 0,
  "metadata": {
    "coursera": {
      "course_slug": "introduction-tensorflow",
      "graded_item_id": "1kAlw",
      "launcher_item_id": "PNLYD"
    },
    "kernelspec": {
      "display_name": "Python 3",
      "language": "python",
      "name": "python3"
    },
    "language_info": {
      "codemirror_mode": {
        "name": "ipython",
        "version": 3
      },
      "file_extension": ".py",
      "mimetype": "text/x-python",
      "name": "python",
      "nbconvert_exporter": "python",
      "pygments_lexer": "ipython3",
      "version": "3.6.8"
    },
    "colab": {
      "provenance": [],
      "include_colab_link": true
    }
  },
  "cells": [
    {
      "cell_type": "markdown",
      "metadata": {
        "id": "view-in-github",
        "colab_type": "text"
      },
      "source": [
        "<a href=\"https://colab.research.google.com/github/Bellladraf6/machine-learning-labs/blob/main/Exercise4_Question.ipynb\" target=\"_parent\"><img src=\"https://colab.research.google.com/assets/colab-badge.svg\" alt=\"Open In Colab\"/></a>"
      ]
    },
    {
      "cell_type": "markdown",
      "metadata": {
        "id": "UncprnB0ymAE"
      },
      "source": [
        "Ниже приведен код со ссылкой на набор данных «happy» или «sad», содержащий 80 изображений, 40 счастливых и 40 грустных.\n",
        "Создайте сверточную нейронную сеть, которая обучается со 100% точностью на этих изображениях, с отменой обучения при достижении точности обучения .999"
      ]
    },
    {
      "cell_type": "code",
      "metadata": {
        "id": "-ALIEF4A2tTr",
        "outputId": "00368e5b-1439-4c4f-8c01-a51602fcfe87",
        "colab": {
          "base_uri": "https://localhost:8080/"
        }
      },
      "source": [
        "import tensorflow as tf\n",
        "import os\n",
        "import zipfile\n",
        "#\n",
        "!wget --no-check-certificate \"https://github.com/andrew-veriga/Tensorflow-labs/raw/master/happy-or-sad.zip\" \\\n",
        "   -O \"/tmp/happy-or-sad.zip\"\n"
      ],
      "execution_count": 1,
      "outputs": [
        {
          "output_type": "stream",
          "name": "stdout",
          "text": [
            "--2024-05-25 19:27:17--  https://github.com/andrew-veriga/Tensorflow-labs/raw/master/happy-or-sad.zip\n",
            "Resolving github.com (github.com)... 140.82.114.3\n",
            "Connecting to github.com (github.com)|140.82.114.3|:443... connected.\n",
            "HTTP request sent, awaiting response... 302 Found\n",
            "Location: https://raw.githubusercontent.com/andrew-veriga/Tensorflow-labs/master/happy-or-sad.zip [following]\n",
            "--2024-05-25 19:27:18--  https://raw.githubusercontent.com/andrew-veriga/Tensorflow-labs/master/happy-or-sad.zip\n",
            "Resolving raw.githubusercontent.com (raw.githubusercontent.com)... 185.199.108.133, 185.199.109.133, 185.199.110.133, ...\n",
            "Connecting to raw.githubusercontent.com (raw.githubusercontent.com)|185.199.108.133|:443... connected.\n",
            "HTTP request sent, awaiting response... 200 OK\n",
            "Length: 2670333 (2.5M) [application/zip]\n",
            "Saving to: ‘/tmp/happy-or-sad.zip’\n",
            "\n",
            "/tmp/happy-or-sad.z 100%[===================>]   2.55M  --.-KB/s    in 0.07s   \n",
            "\n",
            "2024-05-25 19:27:18 (35.3 MB/s) - ‘/tmp/happy-or-sad.zip’ saved [2670333/2670333]\n",
            "\n"
          ]
        }
      ]
    },
    {
      "cell_type": "code",
      "source": [
        "zip_ref = zipfile.ZipFile(\"/tmp/happy-or-sad.zip\", 'r')\n",
        "zip_ref.extractall(\"/tmp/h-or-s\")\n",
        "zip_ref.close()\n",
        "\n",
        "import os\n",
        "\n",
        "train_happy_dir = os.path.join('/tmp/h-or-s/happy')\n",
        "\n",
        "train_sad_dir = os.path.join('/tmp/h-or-s/sad')\n",
        "\n",
        "train_happy_names = os.listdir(train_happy_dir)\n",
        "print(train_happy_names[:10])\n",
        "\n",
        "train_sad_names = os.listdir(train_sad_dir)\n",
        "print(train_sad_names[:10])"
      ],
      "metadata": {
        "id": "sv4QjJ3MKOfn",
        "outputId": "16eaa152-70a1-4fe1-a946-5c4d392923f1",
        "colab": {
          "base_uri": "https://localhost:8080/"
        }
      },
      "execution_count": 2,
      "outputs": [
        {
          "output_type": "stream",
          "name": "stdout",
          "text": [
            "['happy2-13.png', 'happy1-11.png', 'happy1-15.png', 'happy1-12.png', 'happy2-06.png', 'happy2-11.png', 'happy1-01.png', 'happy2-05.png', 'happy1-17.png', 'happy2-16.png']\n",
            "['sad1-17.png', 'sad1-16.png', 'sad2-01.png', 'sad1-07.png', 'sad1-18.png', 'sad2-03.png', 'sad2-13.png', 'sad2-00.png', 'sad1-04.png', 'sad1-08.png']\n"
          ]
        }
      ]
    },
    {
      "cell_type": "code",
      "metadata": {
        "id": "5gZoRjft2tTw",
        "colab": {
          "base_uri": "https://localhost:8080/"
        },
        "outputId": "f705f422-8a69-4005-9283-e99eaed621d4"
      },
      "source": [
        "\n",
        "DESIRED_ACCURACY = 0.999\n",
        "\n",
        "class myCallback(tf.keras.callbacks.Callback):\n",
        "    def on_epoch_end(self, epoch, logs={}):\n",
        "        if logs.get('accuracy') > DESIRED_ACCURACY:\n",
        "            print(\"\\nДостигнута точность {}%, обучение прерывается!\".format(DESIRED_ACCURACY*100))\n",
        "            self.model.stop_training = True\n",
        "\n",
        "callbacks = myCallback()\n",
        "\n",
        "model = tf.keras.models.Sequential([\n",
        "    tf.keras.layers.Conv2D(16, (3,3), activation='relu', input_shape=(150, 150, 3)),\n",
        "    tf.keras.layers.MaxPooling2D(2, 2),\n",
        "    tf.keras.layers.Conv2D(32, (3,3), activation='relu'),\n",
        "    tf.keras.layers.MaxPooling2D(2,2),\n",
        "    tf.keras.layers.Conv2D(64, (3,3), activation='relu'),\n",
        "    tf.keras.layers.MaxPooling2D(2,2),\n",
        "    tf.keras.layers.Flatten(),\n",
        "    tf.keras.layers.Dense(512, activation='relu'),\n",
        "    tf.keras.layers.Dense(1, activation='sigmoid')\n",
        "])\n",
        "\n",
        "from tensorflow.keras.optimizers import RMSprop\n",
        "\n",
        "model.compile(loss='binary_crossentropy',\n",
        "              optimizer=RMSprop(lr=0.001),\n",
        "              metrics=['accuracy'])\n",
        "\n",
        "from tensorflow.keras.preprocessing.image import ImageDataGenerator\n",
        "\n",
        "train_datagen = ImageDataGenerator(rescale=1/255)\n",
        "\n",
        "train_generator = train_datagen.flow_from_directory(\n",
        "        '/tmp/h-or-s/',\n",
        "        target_size=(150, 150),\n",
        "        batch_size=8,\n",
        "        class_mode='binary')\n",
        "\n",
        "history = model.fit(\n",
        "      train_generator,\n",
        "      steps_per_epoch=10,\n",
        "      epochs=30,\n",
        "      verbose=1,\n",
        "      callbacks=[callbacks]\n",
        "      )\n"
      ],
      "execution_count": 3,
      "outputs": [
        {
          "output_type": "stream",
          "name": "stderr",
          "text": [
            "WARNING:absl:`lr` is deprecated in Keras optimizer, please use `learning_rate` or use the legacy optimizer, e.g.,tf.keras.optimizers.legacy.RMSprop.\n"
          ]
        },
        {
          "output_type": "stream",
          "name": "stdout",
          "text": [
            "Found 80 images belonging to 2 classes.\n",
            "Epoch 1/30\n",
            "10/10 [==============================] - 5s 357ms/step - loss: 1.4976 - accuracy: 0.5250\n",
            "Epoch 2/30\n",
            "10/10 [==============================] - 4s 343ms/step - loss: 0.5025 - accuracy: 0.7625\n",
            "Epoch 3/30\n",
            "10/10 [==============================] - 3s 266ms/step - loss: 0.3930 - accuracy: 0.8375\n",
            "Epoch 4/30\n",
            "10/10 [==============================] - 3s 267ms/step - loss: 0.1664 - accuracy: 0.9625\n",
            "Epoch 5/30\n",
            "10/10 [==============================] - 3s 277ms/step - loss: 0.1407 - accuracy: 0.9500\n",
            "Epoch 6/30\n",
            "10/10 [==============================] - 3s 265ms/step - loss: 0.1355 - accuracy: 0.9500\n",
            "Epoch 7/30\n",
            "10/10 [==============================] - 3s 265ms/step - loss: 0.0419 - accuracy: 0.9875\n",
            "Epoch 8/30\n",
            "10/10 [==============================] - 3s 272ms/step - loss: 0.0851 - accuracy: 0.9500\n",
            "Epoch 9/30\n",
            "10/10 [==============================] - ETA: 0s - loss: 0.0242 - accuracy: 1.0000\n",
            "Достигнута точность 99.9%, обучение прерывается!\n",
            "10/10 [==============================] - 4s 367ms/step - loss: 0.0242 - accuracy: 1.0000\n"
          ]
        }
      ]
    }
  ]
}