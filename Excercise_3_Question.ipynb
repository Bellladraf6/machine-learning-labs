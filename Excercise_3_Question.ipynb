{
  "nbformat": 4,
  "nbformat_minor": 0,
  "metadata": {
    "coursera": {
      "course_slug": "introduction-tensorflow",
      "graded_item_id": "ml06H",
      "launcher_item_id": "hQF8A"
    },
    "kernelspec": {
      "display_name": "Python 3",
      "language": "python",
      "name": "python3"
    },
    "language_info": {
      "codemirror_mode": {
        "name": "ipython",
        "version": 3
      },
      "file_extension": ".py",
      "mimetype": "text/x-python",
      "name": "python",
      "nbconvert_exporter": "python",
      "pygments_lexer": "ipython3",
      "version": "3.6.8"
    },
    "colab": {
      "provenance": [],
      "include_colab_link": true
    }
  },
  "cells": [
    {
      "cell_type": "markdown",
      "metadata": {
        "id": "view-in-github",
        "colab_type": "text"
      },
      "source": [
        "<a href=\"https://colab.research.google.com/github/Bellladraf6/machine-learning-labs/blob/main/Excercise_3_Question.ipynb\" target=\"_parent\"><img src=\"https://colab.research.google.com/assets/colab-badge.svg\" alt=\"Open In Colab\"/></a>"
      ]
    },
    {
      "cell_type": "markdown",
      "metadata": {
        "id": "iQjHqsmTAVLU"
      },
      "source": [
        "## Упражнение 3\n",
        "вы уже знаете, как улучшить Fashion MNIST, используя Convolutions. Теперь посмотрите, можете ли вы улучшить MNIST с точностью до 99,8% или более, используя только один сверточный слой и один MaxPooling 2D. Вам надо будет остановить процесс обучения, как только точность превысит это значение. Это должно произойти менее чем за 20 эпох, поэтому можно точно указать количество эпох для обучения, но ваше обучение должно закончиться, как только accuracy достигнет 99,8%. Если это не произойдет, то вам нужно будет изменить дизайн ваших слоев.\n",
        "\n",
        "Начало кода уже написано - вы должны закончить код\n",
        "\n",
        "Когда достигнута точность 99,8%, надо распечатать строку «достигнута точность 99,8%, поэтому обучение прервано!»"
      ]
    },
    {
      "cell_type": "code",
      "metadata": {
        "id": "NHKVudseU5Vk"
      },
      "source": [
        "import tensorflow as tf\n"
      ],
      "execution_count": 1,
      "outputs": []
    },
    {
      "cell_type": "code",
      "metadata": {
        "id": "tCtEvQtcU5Vr",
        "colab": {
          "base_uri": "https://localhost:8080/"
        },
        "outputId": "3119f823-0237-4abe-ab3e-2c085a130191"
      },
      "source": [
        "# Ваш код будет здесь\n",
        "class myCallback(tf.keras.callbacks.Callback):\n",
        "    def on_epoch_end(self, epoch, logs={}):\n",
        "        if(logs.get('accuracy') > 0.998):\n",
        "            print(\"\\nДостигнута точность 99.8%, поэтому обучение прервано!\")\n",
        "            self.model.stop_training = True\n",
        "# Ваш код закончится здесь\n",
        "\n",
        "mnist = tf.keras.datasets.mnist\n",
        "(training_images, training_labels), (test_images, test_labels) = mnist.load_data()\n",
        "\n",
        "# Ваш код будет здесь\n",
        "training_images=training_images.reshape(60000, 28, 28, 1)\n",
        "training_images=training_images / 255.0\n",
        "test_images = test_images.reshape(10000, 28, 28, 1)\n",
        "test_images=test_images/255.0\n",
        "# Ваш код закончится здесь\n",
        "\n",
        "model = tf.keras.models.Sequential([\n",
        "        # Ваш код будет здесь\n",
        "        tf.keras.layers.Conv2D(64, (3,3), activation='relu', input_shape=(28, 28, 1)),\n",
        "        tf.keras.layers.MaxPooling2D(2, 2),\n",
        "        tf.keras.layers.Flatten(),\n",
        "        tf.keras.layers.Dense(128, activation='relu'),\n",
        "        tf.keras.layers.Dense(10, activation='softmax')\n",
        "        # Ваш код закончится здесь\n",
        "])\n",
        "\n",
        "model.compile(optimizer='adam', loss='sparse_categorical_crossentropy', metrics=['accuracy'])\n",
        "# model fitting\n",
        "history = model.fit(\n",
        "    # Ваш код будет здесь\n",
        "       training_images, training_labels, epochs=20, callbacks=[myCallback()]\n",
        "    # Ваш код закончится здесь\n",
        ")\n",
        "# model fitting\n",
        "print(history.epoch, history.history['accuracy'][-1])\n"
      ],
      "execution_count": 2,
      "outputs": [
        {
          "output_type": "stream",
          "name": "stdout",
          "text": [
            "Downloading data from https://storage.googleapis.com/tensorflow/tf-keras-datasets/mnist.npz\n",
            "11490434/11490434 [==============================] - 0s 0us/step\n",
            "Epoch 1/20\n",
            "1875/1875 [==============================] - 77s 40ms/step - loss: 0.1391 - accuracy: 0.9584\n",
            "Epoch 2/20\n",
            "1875/1875 [==============================] - 76s 41ms/step - loss: 0.0472 - accuracy: 0.9854\n",
            "Epoch 3/20\n",
            "1875/1875 [==============================] - 79s 42ms/step - loss: 0.0283 - accuracy: 0.9907\n",
            "Epoch 4/20\n",
            "1875/1875 [==============================] - 75s 40ms/step - loss: 0.0177 - accuracy: 0.9947\n",
            "Epoch 5/20\n",
            "1875/1875 [==============================] - 74s 40ms/step - loss: 0.0123 - accuracy: 0.9959\n",
            "Epoch 6/20\n",
            "1875/1875 [==============================] - 79s 42ms/step - loss: 0.0088 - accuracy: 0.9973\n",
            "Epoch 7/20\n",
            "1875/1875 [==============================] - 79s 42ms/step - loss: 0.0066 - accuracy: 0.9977\n",
            "Epoch 8/20\n",
            "1874/1875 [============================>.] - ETA: 0s - loss: 0.0054 - accuracy: 0.9983\n",
            "Достигнута точность 99.8%, поэтому обучение прервано!\n",
            "1875/1875 [==============================] - 76s 41ms/step - loss: 0.0054 - accuracy: 0.9983\n",
            "[0, 1, 2, 3, 4, 5, 6, 7] 0.9982666373252869\n"
          ]
        }
      ]
    }
  ]
}